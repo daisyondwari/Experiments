{
 "cells": [
  {
   "cell_type": "code",
   "execution_count": null,
   "metadata": {},
   "outputs": [],
   "source": [
    "#create a class to:\n",
    "#1. read in the data\n",
    "#2. clean the data\n",
    "#3. EDA\n",
    "#4. feature engineering\n",
    "#5. model selection\n",
    "#6. model evaluation\n",
    "#7. model interpretation\n",
    "#8. model deployment\n",
    "\n",
    "#1. read in the data\n",
    "import pandas as pd\n",
    "import numpy as np\n",
    "import matplotlib.pyplot as plt\n",
    "import seaborn as sns\n",
    "from sklearn import preprocessing\n",
    "from sklearn import metrics\n",
    "from sklearn.model_selection import train_test_split\n",
    "from sklearn.ensemble import IsolationForest\n"
   ]
  }
 ],
 "metadata": {
  "language_info": {
   "name": "python"
  },
  "orig_nbformat": 4
 },
 "nbformat": 4,
 "nbformat_minor": 2
}
